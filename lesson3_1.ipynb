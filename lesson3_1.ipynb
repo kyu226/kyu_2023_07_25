{
 "cells": [
  {
   "cell_type": "code",
   "execution_count": 1,
   "metadata": {},
   "outputs": [
    {
     "data": {
      "text/plain": [
       "5000"
      ]
     },
     "execution_count": 1,
     "metadata": {},
     "output_type": "execute_result"
    }
   ],
   "source": [
    "100*50"
   ]
  },
  {
   "cell_type": "code",
   "execution_count": 3,
   "metadata": {},
   "outputs": [
    {
     "name": "stdout",
     "output_type": "stream",
     "text": [
      "奇數\n"
     ]
    }
   ],
   "source": [
    "num=int(input(\"請輸入任一數字\"))\n",
    "if num%2==0:\n",
    "    print(\"偶數\")\n",
    "else:\n",
    "    print(\"奇數\")"
   ]
  },
  {
   "cell_type": "code",
   "execution_count": 8,
   "metadata": {},
   "outputs": [
    {
     "name": "stdout",
     "output_type": "stream",
     "text": [
      "梯形面積是: 455.06 平方公分\n"
     ]
    }
   ],
   "source": [
    "#請使用者輸入梯形上底、下底和高，程式會自動計算梯形面積\n",
    "top=float(input(\"輸入梯形上底(公分)\"))\n",
    "bottom=float(input(\"輸入梯形下底(公分)\"))\n",
    "height=float(input(\"輸入梯形下底(公分)\"))\n",
    "\n",
    "area=(top+bottom)*height/2\n",
    "print(\"梯形面積是:\",round(area,ndigits=2),\"平方公分\")"
   ]
  }
 ],
 "metadata": {
  "kernelspec": {
   "display_name": "Python 3",
   "language": "python",
   "name": "python3"
  },
  "language_info": {
   "codemirror_mode": {
    "name": "ipython",
    "version": 3
   },
   "file_extension": ".py",
   "mimetype": "text/x-python",
   "name": "python",
   "nbconvert_exporter": "python",
   "pygments_lexer": "ipython3",
   "version": "3.10.12"
  },
  "orig_nbformat": 4
 },
 "nbformat": 4,
 "nbformat_minor": 2
}
