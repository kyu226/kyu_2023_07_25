{
 "cells": [
  {
   "cell_type": "code",
   "execution_count": null,
   "metadata": {},
   "outputs": [],
   "source": [
    "import random\n",
    "min = 1\n",
    "max = 100\n",
    "target = random.randint(min,max)\n",
    "count = 0\n",
    "\n",
    "print(\"========猜數字遊戲=======\\n\\n\")\n",
    "while True:\n",
    "    keyin=int(input(f\"猜數字的範圍{min}~{max}:\"))\n",
    "    count+=1\n",
    "    if keyin >= min and keyin <= max:\n",
    "        if (keyin==target):\n",
    "            print(f\"猜對了!\")\n",
    "            print(f\"您總共猜了{count}次\")\n",
    "            break\n",
    "        elif (keyin>target):\n",
    "            print(\"再小一點\")\n",
    "            max=keyin-1\n",
    "        elif(keyin<target):\n",
    "            print(\"再大一點\")\n",
    "            min=keyin+1\n",
    "            print(f\"您已經猜了{count}次\")\n",
    "    else:\n",
    "        print(\"超出範圍\")\n",
    "print(\"GAME OVER\")  "
   ]
  },
  {
   "cell_type": "code",
   "execution_count": 4,
   "metadata": {},
   "outputs": [
    {
     "name": "stdout",
     "output_type": "stream",
     "text": [
      "========猜數字遊戲=======\n",
      "\n",
      "\n",
      "再大一點\n",
      "您已經猜了1次\n",
      "再大一點\n",
      "您已經猜了2次\n",
      "再小一點\n",
      "再大一點\n",
      "您已經猜了4次\n",
      "再小一點\n",
      "再小一點\n",
      "猜對了!\n",
      "您總共猜了7次\n",
      "========猜數字遊戲=======\n",
      "\n",
      "\n",
      "再小一點\n"
     ]
    },
    {
     "ename": "ValueError",
     "evalue": "invalid literal for int() with base 10: ''",
     "output_type": "error",
     "traceback": [
      "\u001b[0;31m---------------------------------------------------------------------------\u001b[0m",
      "\u001b[0;31mValueError\u001b[0m                                Traceback (most recent call last)",
      "Cell \u001b[0;32mIn[4], line 10\u001b[0m\n\u001b[1;32m      8\u001b[0m \u001b[39mprint\u001b[39m(\u001b[39m\"\u001b[39m\u001b[39m========猜數字遊戲=======\u001b[39m\u001b[39m\\n\u001b[39;00m\u001b[39m\\n\u001b[39;00m\u001b[39m\"\u001b[39m)\n\u001b[1;32m      9\u001b[0m \u001b[39mwhile\u001b[39;00m \u001b[39mTrue\u001b[39;00m:\n\u001b[0;32m---> 10\u001b[0m     keyin\u001b[39m=\u001b[39m\u001b[39mint\u001b[39;49m(\u001b[39minput\u001b[39;49m(\u001b[39mf\u001b[39;49m\u001b[39m\"\u001b[39;49m\u001b[39m猜數字的範圍\u001b[39;49m\u001b[39m{\u001b[39;49;00m\u001b[39mmin\u001b[39;49m\u001b[39m}\u001b[39;49;00m\u001b[39m~\u001b[39;49m\u001b[39m{\u001b[39;49;00m\u001b[39mmax\u001b[39;49m\u001b[39m}\u001b[39;49;00m\u001b[39m:\u001b[39;49m\u001b[39m\"\u001b[39;49m))\n\u001b[1;32m     11\u001b[0m     count\u001b[39m+\u001b[39m\u001b[39m=\u001b[39m\u001b[39m1\u001b[39m\n\u001b[1;32m     12\u001b[0m     \u001b[39mif\u001b[39;00m keyin \u001b[39m>\u001b[39m\u001b[39m=\u001b[39m \u001b[39mmin\u001b[39m \u001b[39mand\u001b[39;00m keyin \u001b[39m<\u001b[39m\u001b[39m=\u001b[39m \u001b[39mmax\u001b[39m:\n",
      "\u001b[0;31mValueError\u001b[0m: invalid literal for int() with base 10: ''"
     ]
    }
   ],
   "source": [
    "import random\n",
    "while True:\n",
    "    min = 1\n",
    "    max = 100\n",
    "    target = random.randint(min,max)\n",
    "    count = 0\n",
    "\n",
    "    print(\"========猜數字遊戲=======\\n\\n\")\n",
    "    while True:\n",
    "        keyin=int(input(f\"猜數字的範圍{min}~{max}:\"))\n",
    "        count+=1\n",
    "        if keyin >= min and keyin <= max:\n",
    "            if (keyin==target):\n",
    "                print(f\"猜對了!\")\n",
    "                print(f\"您總共猜了{count}次\")\n",
    "                break\n",
    "            elif (keyin>target):\n",
    "                print(\"再小一點\")\n",
    "                max=keyin-1\n",
    "            elif(keyin<target):\n",
    "                print(\"再大一點\")\n",
    "                min=keyin+1\n",
    "                print(f\"您已經猜了{count}次\")\n",
    "        else:\n",
    "            print(\"超出範圍\")\n",
    "    play_again=input(\"是否繼續遊戲?(y or n\")\n",
    "    if play_again ==\"n\":\n",
    "        break\n",
    "    else:\n",
    "        continue\n",
    "print(\"遊戲結束\")"
   ]
  },
  {
   "cell_type": "code",
   "execution_count": null,
   "metadata": {},
   "outputs": [],
   "source": [
    "import random\n",
    "min = 1\n",
    "max = 100\n",
    "target = random.randint(min,max)\n",
    "count = 0\n",
    "\n",
    "print(\"========猜數字遊戲=======\\n\\n\")\n",
    "while True:\n",
    "    keyin=int(input(f\"猜數字的範圍{min}~{max}:\"))\n",
    "    count+=1\n",
    "    if keyin >= min and keyin <= max:\n",
    "        if (keyin==target):\n",
    "            print(f\"猜對了!\")\n",
    "            print(f\"您總共猜了{count}次\")\n",
    "            break\n",
    "        elif (keyin>target):\n",
    "            print(\"再小一點\")\n",
    "            max=keyin-1\n",
    "        elif(keyin<target):\n",
    "            print(\"再大一點\")\n",
    "            min=keyin+1\n",
    "            print(f\"您已經猜了{count}次\")\n",
    "    else:\n",
    "        print(\"超出範圍\")\n",
    "print(\"GAME OVER\")  "
   ]
  }
 ],
 "metadata": {
  "kernelspec": {
   "display_name": "Python 3",
   "language": "python",
   "name": "python3"
  },
  "language_info": {
   "codemirror_mode": {
    "name": "ipython",
    "version": 3
   },
   "file_extension": ".py",
   "mimetype": "text/x-python",
   "name": "python",
   "nbconvert_exporter": "python",
   "pygments_lexer": "ipython3",
   "version": "3.10.12"
  },
  "orig_nbformat": 4
 },
 "nbformat": 4,
 "nbformat_minor": 2
}
