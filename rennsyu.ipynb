{
 "cells": [
  {
   "cell_type": "code",
   "execution_count": 4,
   "metadata": {},
   "outputs": [
    {
     "name": "stdout",
     "output_type": "stream",
     "text": [
      "獎金是500\n"
     ]
    }
   ],
   "source": [
    "chinese = int(input(\"請輸入國文分數\"))\n",
    "math = int(input(\"請輸入數學分數\"))\n",
    "bonus=0\n",
    "if chinese == 100 and math==100:\n",
    "    bonus=1000\n",
    "elif chinese== 100 or math ==100:\n",
    "    bonus=500\n",
    "\n",
    "print(f\"獎金是{bonus}\")"
   ]
  },
  {
   "cell_type": "code",
   "execution_count": 7,
   "metadata": {},
   "outputs": [
    {
     "name": "stdout",
     "output_type": "stream",
     "text": [
      "血壓不正常\n"
     ]
    }
   ],
   "source": [
    "presure=int(input(\"請輸入血壓值\"))\n",
    "if presure >=80 and presure <=120:\n",
    "    print(\"血壓正常\")\n",
    "else:\n",
    "    print(\"血壓不正常\")\n"
   ]
  },
  {
   "cell_type": "code",
   "execution_count": null,
   "metadata": {},
   "outputs": [],
   "source": [
    "presure=int(input(\"請輸入血壓值\"))\n",
    "if presure <80 and presure >120:\n",
    "    print(\"血壓不正常\")\n",
    "else:\n",
    "    print(\"血壓正常\")\n"
   ]
  },
  {
   "cell_type": "code",
   "execution_count": 11,
   "metadata": {},
   "outputs": [
    {
     "name": "stdout",
     "output_type": "stream",
     "text": [
      "您的身高:168\n",
      "您的體重為:68\n",
      "您的BMI值為24.09\n",
      "提示過重\n"
     ]
    }
   ],
   "source": [
    "#BMI計算後分機\n",
    "height=int(input(\"請輸入身高，單位為公分\"))\n",
    "weight=int(input(\"請輸入體重\"))\n",
    "#BMU計算公式 體重/(身高)**2\n",
    "\n",
    "bmi=weight/(height/100)**2\n",
    "suggest=\"\"\n",
    "if bmi <18.5:\n",
    "    suggest=\"體重過輕\"\n",
    "elif bmi < 24:\n",
    "    suggest=\"正常體重\"\n",
    "elif  bmi < 27:\n",
    "    suggest=\"過重\"\n",
    "elif bmi <30:\n",
    "    suggest=\"輕度肥胖\"\n",
    "elif  bmi <35:\n",
    "    suggest=\"中度肥胖\"\n",
    "else:\n",
    "    suggest = \"重度肥胖\"\n",
    "\n",
    "print(f\"您的身高:{height}\")\n",
    "print(f\"您的體重為:{weight}\")\n",
    "print(f\"您的BMI值為{bmi:.2f}\")\n",
    "print(f\"提示{suggest}\")"
   ]
  },
  {
   "cell_type": "code",
   "execution_count": 5,
   "metadata": {},
   "outputs": [
    {
     "name": "stdout",
     "output_type": "stream",
     "text": [
      "======猜數字遊戲======\n",
      "小一點\n",
      "您已經猜了1次\n",
      "小一點\n",
      "您已經猜了2次\n",
      "大一點\n",
      "您已經猜了3次\n",
      "小一點\n",
      "您已經猜了4次\n",
      "小一點\n",
      "您已經猜了5次\n",
      "大一點\n",
      "您已經猜了6次\n",
      "大一點\n",
      "您已經猜了7次\n",
      "猜對了\n",
      "您總共猜了8次\n",
      "遊戲結束\n"
     ]
    }
   ],
   "source": [
    "import random\n",
    "\n",
    "#自訂功能\n",
    "def play_game():\n",
    "    min=1\n",
    "    max=100\n",
    "    target=random.randint(min,max)\n",
    "    count=0\n",
    "    \n",
    "    print(\"======猜數字遊戲======\")\n",
    "    while True:\n",
    "        keyin=int(input(f\"猜數字範圍{min}~{max}:\"))\n",
    "        count +=1\n",
    "        if keyin>= min and keyin<=max:\n",
    "            if keyin==target:\n",
    "                print(\"猜對了\")\n",
    "                print(f\"您總共猜了{count}次\")\n",
    "                break\n",
    "            elif keyin<target:\n",
    "                print(\"大一點\")\n",
    "                min=keyin-1\n",
    "                print(f\"您已經猜了{count}次\")\n",
    "            elif keyin > target:\n",
    "                print(\"小一點\")\n",
    "                max=keyin+1\n",
    "                print(f\"您已經猜了{count}次\")\n",
    "        else:\n",
    "             print(\"超出範圍\")\n",
    "\n",
    "while True:\n",
    "    play_game()#呼叫function\n",
    "    play_again=input(\"是否繼續進行遊戲(y or n):\")\n",
    "    if play_again == \"n\":\n",
    "        break\n",
    "    else:\n",
    "        continue\n",
    "print(\"遊戲結束\")"
   ]
  },
  {
   "cell_type": "code",
   "execution_count": 3,
   "metadata": {},
   "outputs": [
    {
     "name": "stdout",
     "output_type": "stream",
     "text": [
      "========猜動物名稱遊戲======\n",
      "\n",
      "\n",
      "請從下列動物中猜一個:\n",
      "dog, cat, elephant, lion, tiger\n",
      "猜錯了，請在試一次\n",
      "猜錯了，請在試一次\n",
      "猜錯了，請在試一次\n",
      "猜錯了，請在試一次\n",
      "猜對了!正確答案是Tiger\n",
      "您共猜了5次\n",
      "========猜動物名稱遊戲======\n",
      "\n",
      "\n",
      "請從下列動物中猜一個:\n",
      "dog, cat, elephant, lion, tiger\n",
      "猜錯了，請在試一次\n",
      "猜錯了，請在試一次\n",
      "猜錯了，請在試一次\n",
      "猜錯了，請在試一次\n",
      "猜錯了，請在試一次\n",
      "猜對了!正確答案是Lion\n",
      "您共猜了6次\n",
      "遊戲結束\n"
     ]
    }
   ],
   "source": [
    "import random\n",
    "#撰寫一個猜動物名稱的遊戲。程式隨機選擇一個動物名稱，玩家需要猜出是哪一個動物。\n",
    "# 程式提供提示，告訴玩家猜的動物名稱是在目標名稱的前還是後。\n",
    "#自訂function\n",
    "def play_game():\n",
    "    #定義動物名稱的列表\n",
    "    animals=[\"dog\",\"cat\",\"elephant\",\"lion\",\"tiger\"]\n",
    "    \n",
    "    #隨機選一個動物名稱作為目標\n",
    "    target=random.choice(animals)\n",
    "    count=0 #記錄猜的次數\n",
    "    print(\"========猜動物名稱遊戲======\\n\\n\")\n",
    "    print(\"請從下列動物中猜一個:\")\n",
    "    print(\", \".join(animals))#顯示動物名稱列表\n",
    "\n",
    "    #開始遊戲迴圈\n",
    "    while True:\n",
    "        #讓玩家猜測動物名稱，並換成小寫\n",
    "        guess=input(\"請猜一動物名稱\").lower()\n",
    "        count+=1 #猜的次數+1\n",
    "        if guess==target:\n",
    "            print(f\"猜對了!正確答案是{target.capitalize()}\")\n",
    "            print(f\"您共猜了{count}次\")\n",
    "            break #跳出迴圈\n",
    "        else:\n",
    "            print(\"猜錯了，請在試一次\")\n",
    "\n",
    "#主遊戲迴圈\n",
    "while True:\n",
    "    play_game() #執行遊戲函式\n",
    "    play_again=input(\"是否繼續遊戲 (y or n):\")\n",
    "    if play_again==\"n\":\n",
    "        break\n",
    "    else:\n",
    "        continue\n",
    "\n",
    "print(\"遊戲結束\")"
   ]
  },
  {
   "cell_type": "code",
   "execution_count": 6,
   "metadata": {},
   "outputs": [
    {
     "name": "stdout",
     "output_type": "stream",
     "text": [
      "========猜數字遊戲=======\n",
      "\n",
      "\n",
      "再小一點\n",
      "再小一點\n",
      "再小一點\n",
      "再大一點\n",
      "您已經猜了4次\n",
      "再大一點\n",
      "您已經猜了5次\n",
      "再小一點\n",
      "猜對了!\n",
      "您總共猜了7次\n",
      "遊戲結束\n"
     ]
    }
   ],
   "source": [
    "import random\n",
    "#自訂function\n",
    "def play_game():\n",
    "    min = 0\n",
    "    max = 0\n",
    "    count = 0\n",
    "\n",
    "    print(\"========猜數字遊戲=======\\n\\n\")\n",
    "    min=int(input(\"請輸入最小值\"))\n",
    "    max=int(input(\"請輸入最大值\"))\n",
    "    target = random.randint(min,max)\n",
    "    while True:\n",
    "        keyin=int(input(f\"猜數字的範圍{min}~{max}:\"))\n",
    "        count+=1\n",
    "        if keyin >= min and keyin <= max:\n",
    "            if (keyin==target):\n",
    "                print(f\"猜對了!\")\n",
    "                print(f\"您總共猜了{count}次\")\n",
    "                break\n",
    "            elif (keyin>target):\n",
    "                print(\"再小一點\")\n",
    "                max=keyin-1\n",
    "            elif(keyin<target):\n",
    "                print(\"再大一點\")\n",
    "                min=keyin+1\n",
    "                print(f\"您已經猜了{count}次\")\n",
    "        else:\n",
    "            print(\"超出範圍\")\n",
    "\n",
    "while True:\n",
    "        play_game()\n",
    "        play_again=input(\"是否繼續遊戲?(y or n):\")\n",
    "        if play_again ==\"n\":\n",
    "            break\n",
    "        else:\n",
    "            continue\n",
    "print(\"遊戲結束\")"
   ]
  },
  {
   "cell_type": "code",
   "execution_count": 5,
   "metadata": {},
   "outputs": [
    {
     "name": "stdout",
     "output_type": "stream",
     "text": [
      "=======猜單詞遊戲======\n",
      "請猜這是什麼詞r e a w r s b t r y\n",
      "猜對了\n",
      "您共猜了1次\n",
      "=======猜單詞遊戲======\n",
      "請猜這是什麼詞r a s b r w y r t e\n",
      "猜錯了，再試試看吧!\n",
      "猜對了\n",
      "您共猜了2次\n",
      "=======猜單詞遊戲======\n",
      "請猜這是什麼詞o g a e r n\n",
      "猜對了\n",
      "您共猜了1次\n",
      "遊戲結束\n"
     ]
    }
   ],
   "source": [
    "import random\n",
    "\n",
    "#自訂函式，用來玩猜單詞遊戲\n",
    "\n",
    "\n",
    "def play_game():\n",
    "    words=\"apple\",\"banana\",\"cherry\",\"grape\",\"orange\",\"strawberry\"\n",
    "    selected_word=random.choice(words)#從 words列表中隨機挑選一個單詞\n",
    "    mixed_word=list(selected_word)#將單詞轉換成字母\n",
    "    random.shuffle(mixed_word)#打亂字母順序\n",
    "    mixed_word=\" \".join(mixed_word)#將打亂的字母重新組合\n",
    "    count=0\n",
    "    print(\"=======猜單詞遊戲======\")\n",
    "    print(f\"請猜這是什麼詞{mixed_word}\")\n",
    "    \n",
    "    while True:\n",
    "        guess = input(\"猜出原始單詞\")\n",
    "        count += 1\n",
    "\n",
    "        if guess.lower() ==selected_word:\n",
    "            print(\"猜對了\")\n",
    "            print(f\"您共猜了{count}次\")\n",
    "            break\n",
    "        else:\n",
    "            print(\"猜錯了，再試試看吧!\")\n",
    "\n",
    "#主遊戲迴圈\n",
    "while True:\n",
    "    play_game() #執行遊戲函式\n",
    "    play_again =input(\"是否繼續遊戲?(y or n):\")\n",
    "    if play_again==\"n\":\n",
    "        break#遊戲結束，退出迴圈\n",
    "    else:\n",
    "        continue # 繼續遊戲，進入下一輪\n",
    "\n",
    "print(\"遊戲結束\") #所有遊戲結束後提示"
   ]
  }
 ],
 "metadata": {
  "kernelspec": {
   "display_name": "Python 3",
   "language": "python",
   "name": "python3"
  },
  "language_info": {
   "codemirror_mode": {
    "name": "ipython",
    "version": 3
   },
   "file_extension": ".py",
   "mimetype": "text/x-python",
   "name": "python",
   "nbconvert_exporter": "python",
   "pygments_lexer": "ipython3",
   "version": "3.10.12"
  },
  "orig_nbformat": 4
 },
 "nbformat": 4,
 "nbformat_minor": 2
}
