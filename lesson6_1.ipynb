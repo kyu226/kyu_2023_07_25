{
 "cells": [
  {
   "cell_type": "code",
   "execution_count": 1,
   "metadata": {},
   "outputs": [
    {
     "name": "stdout",
     "output_type": "stream",
     "text": [
      "1\n",
      "2\n",
      "3\n",
      "4\n",
      "5\n",
      "程式結束\n"
     ]
    }
   ],
   "source": [
    "#執行五次\n",
    "#列印出1~5\n",
    "#whiel\n",
    "\n",
    "count = 1\n",
    "while count <=5:\n",
    "    print(count)\n",
    "    count += 1\n",
    "print(\"程式結束\")"
   ]
  },
  {
   "cell_type": "code",
   "execution_count": 5,
   "metadata": {},
   "outputs": [
    {
     "name": "stdout",
     "output_type": "stream",
     "text": [
      "恭喜!已經存夠了，存了6個月，總存款為73000元\n"
     ]
    }
   ],
   "source": [
    "#小明想買一輛機車，機車每輛3000，每月存錢輸入，當存款足夠購買時，顯示提示訊息\n",
    "moto_price=30000\n",
    "deposit=0\n",
    "month = 0\n",
    "while(deposit<30000):\n",
    "    month +=1\n",
    "    save=int(input(f\"請輸入{month}個月份的存款額是\"))\n",
    "    deposit += save\n",
    "print(f\"恭喜!已經存夠了，存了{month}個月，總存款為{deposit}元\")\n"
   ]
  },
  {
   "cell_type": "code",
   "execution_count": null,
   "metadata": {},
   "outputs": [],
   "source": [
    "#使用break跳出迴圈\n",
    "count = 1\n",
    "while True:\n",
    "    print(count)\n",
    "    count += 1\n",
    "    if count > 5:\n",
    "        break\n"
   ]
  },
  {
   "cell_type": "code",
   "execution_count": 6,
   "metadata": {},
   "outputs": [
    {
     "name": "stdout",
     "output_type": "stream",
     "text": [
      "恭喜!已經存夠了，存了5個月，總存款為32220元\n"
     ]
    }
   ],
   "source": [
    "moto_price=30000\n",
    "deposit=0\n",
    "month = 0\n",
    "while True:\n",
    "    month +=1\n",
    "    save=int(input(f\"請輸入{month}個月份的存款額是\"))\n",
    "    deposit += save\n",
    "    if deposit >= 30000:\n",
    "        break\n",
    "print(f\"恭喜!已經存夠了，存了{month}個月，總存款為{deposit}元\")"
   ]
  },
  {
   "cell_type": "code",
   "execution_count": 10,
   "metadata": {},
   "outputs": [
    {
     "name": "stdout",
     "output_type": "stream",
     "text": [
      "輸入的次數是4,所有輸入的正偶數相加總是:10\n"
     ]
    }
   ],
   "source": [
    "#請設計一個程式，讓使用者輸入數值，只加總正偶數值，不加總正奇數值，如果輸入負數，結束程式\n",
    "#break\n",
    "#continue\n",
    "\n",
    "sun = 0\n",
    "num = 0\n",
    "while True:\n",
    "    input_value = int(input(f\"請輸入第{num+1}個數值\"))\n",
    "    if input_value < 0 :\n",
    "        break\n",
    "    num += 1\n",
    "    if input_value %2 == 1 :\n",
    "        continue\n",
    "    sun +=input_value\n",
    "\n",
    "print(f\"輸入的次數是{num},所有輸入的正偶數相加總是:{sun}\")\n"
   ]
  }
 ],
 "metadata": {
  "kernelspec": {
   "display_name": "Python 3",
   "language": "python",
   "name": "python3"
  },
  "language_info": {
   "codemirror_mode": {
    "name": "ipython",
    "version": 3
   },
   "file_extension": ".py",
   "mimetype": "text/x-python",
   "name": "python",
   "nbconvert_exporter": "python",
   "pygments_lexer": "ipython3",
   "version": "3.10.12"
  },
  "orig_nbformat": 4
 },
 "nbformat": 4,
 "nbformat_minor": 2
}
