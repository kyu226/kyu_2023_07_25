{
 "cells": [
  {
   "cell_type": "code",
   "execution_count": 1,
   "metadata": {},
   "outputs": [],
   "source": [
    "#參數沒有default值\n",
    "def scores(chinese,english,math):\n",
    "    print(f\"國文:{chinese},英文:{english},數學:{math}\")"
   ]
  },
  {
   "cell_type": "code",
   "execution_count": 7,
   "metadata": {},
   "outputs": [
    {
     "name": "stdout",
     "output_type": "stream",
     "text": [
      "國文:(88,),英文:80,數學:92\n"
     ]
    }
   ],
   "source": [
    "scores(88,80,math=92)"
   ]
  },
  {
   "cell_type": "code",
   "execution_count": 10,
   "metadata": {},
   "outputs": [
    {
     "name": "stdout",
     "output_type": "stream",
     "text": [
      "國文:89,英文:60,數學:60\n",
      "國文:90,英文:60,數學:99\n",
      "國文:75,英文:80,數學:45\n"
     ]
    }
   ],
   "source": [
    "#如果參數有default,一定要放在最後\n",
    "def scores1(chinese,english=60,math=60):\n",
    "    print(f\"國文:{chinese},英文:{english},數學:{math}\")\n",
    "\n",
    "scores1(89)\n",
    "scores1(90,math=99)\n",
    "scores1(75,math=45,english=80)"
   ]
  },
  {
   "cell_type": "code",
   "execution_count": 15,
   "metadata": {},
   "outputs": [
    {
     "name": "stdout",
     "output_type": "stream",
     "text": [
      "50到100的質數是:\n",
      "53 59 61 67 71 73 79 83 89 97 "
     ]
    }
   ],
   "source": [
    "def print_prime(first,end):\n",
    "    \n",
    "    if first <2:\n",
    "        first=2\n",
    "    print(f\"{first}到{end}的質數是:\")\n",
    "    for num in range(first,end+1):\n",
    "        is_prime=True\n",
    "        for i in range(2,num):\n",
    "            if num%i==0:\n",
    "                is_prime=False\n",
    "\n",
    "        if is_prime:\n",
    "            print(f\"{num}\",end=\" \")\n",
    "f = int(input(\"請輸入first值\"))\n",
    "e = int(input(\"請輸入end值:\"))\n",
    "print_prime(f,e)"
   ]
  },
  {
   "cell_type": "code",
   "execution_count": 18,
   "metadata": {},
   "outputs": [
    {
     "name": "stdout",
     "output_type": "stream",
     "text": [
      "400\n"
     ]
    }
   ],
   "source": [
    "#傳出值的function\n",
    "def add(first,second):\n",
    "    return first + second\n",
    "\n",
    "total=add(150,250)\n",
    "print(total)"
   ]
  },
  {
   "cell_type": "code",
   "execution_count": 19,
   "metadata": {},
   "outputs": [
    {
     "name": "stdout",
     "output_type": "stream",
     "text": [
      "18\n"
     ]
    }
   ],
   "source": [
    "#python3.7版本就有支援\n",
    "#參數和傳出值，型別的提醒\n",
    "#這只是提醒，可有可無\n",
    "def add1(first:int,second:int) -> int:\n",
    "    return first + second\n",
    "\n",
    "total=add1(8,10)\n",
    "print(total)"
   ]
  },
  {
   "cell_type": "code",
   "execution_count": 20,
   "metadata": {},
   "outputs": [
    {
     "name": "stdout",
     "output_type": "stream",
     "text": [
      "18.9\n"
     ]
    }
   ],
   "source": [
    "def add2(first:int|float,second:int|float) -> int|float:\n",
    "    return first+second\n",
    "\n",
    "total=add2(8.1,10.8)\n",
    "print(total)"
   ]
  }
 ],
 "metadata": {
  "kernelspec": {
   "display_name": "Python 3",
   "language": "python",
   "name": "python3"
  },
  "language_info": {
   "codemirror_mode": {
    "name": "ipython",
    "version": 3
   },
   "file_extension": ".py",
   "mimetype": "text/x-python",
   "name": "python",
   "nbconvert_exporter": "python",
   "pygments_lexer": "ipython3",
   "version": "3.10.12"
  },
  "orig_nbformat": 4
 },
 "nbformat": 4,
 "nbformat_minor": 2
}
