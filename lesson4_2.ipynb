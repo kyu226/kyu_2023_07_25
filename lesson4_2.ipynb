{
 "cells": [
  {
   "cell_type": "code",
   "execution_count": 1,
   "metadata": {},
   "outputs": [
    {
     "name": "stdout",
     "output_type": "stream",
     "text": [
      "丙\n"
     ]
    }
   ],
   "source": [
    "try:\n",
    "    score=int(input(\"輸入成績\"))\n",
    "    if score>=90:\n",
    "        print(\"優\")\n",
    "    elif score>=80:\n",
    "        print(\"甲\")\n",
    "    elif score>=70:\n",
    "        print(\"乙\")\n",
    "    elif score>=60:\n",
    "        print(\"丙\")\n",
    "    else:\n",
    "        print(\"不及格\")\n",
    "except:\n",
    "    print(\"輸入錯誤\")"
   ]
  },
  {
   "cell_type": "code",
   "execution_count": 6,
   "metadata": {},
   "outputs": [
    {
     "name": "stdout",
     "output_type": "stream",
     "text": [
      "學生等級丁\n"
     ]
    }
   ],
   "source": [
    "#90以上~100為優\n",
    "#80以上~89為甲\n",
    "#70以上~79為乙\n",
    "#60以上~69為丙\n",
    "#0以上~59為丁\n",
    "\n",
    "score = int(input(\"輸入成績\"))\n",
    "if score >=90:\n",
    "    grade=\"優\"\n",
    "else:\n",
    "    if score >= 80:\n",
    "        grade = \"甲\"\n",
    "    else:\n",
    "        if score >= 70:\n",
    "            grade = \"乙\"\n",
    "        else:\n",
    "            if score >= 60:\n",
    "                grade = \"丙\"\n",
    "            else:\n",
    "                grade = \"丁\"\n",
    "print(f\"學生等級{grade}\")\n"
   ]
  },
  {
   "cell_type": "code",
   "execution_count": 10,
   "metadata": {},
   "outputs": [
    {
     "name": "stdout",
     "output_type": "stream",
     "text": [
      "學生等級乙\n"
     ]
    }
   ],
   "source": [
    "#多項選擇\n",
    "try:\n",
    "    score = int(input(\"輸入成績\"))\n",
    "    if score >=90:\n",
    "        grade=\"優\"\n",
    "    elif score >= 80:\n",
    "        grade = \"甲\"\n",
    "    elif score >= 70:\n",
    "        grade = \"乙\"\n",
    "    elif score >= 60:\n",
    "        grade = \"丙\"\n",
    "    else:\n",
    "        grade = \"丁\"\n",
    "    print(f\"學生等級{grade}\")\n",
    "except:\n",
    "    print(\"格式錯誤\")"
   ]
  },
  {
   "cell_type": "code",
   "execution_count": 17,
   "metadata": {},
   "outputs": [
    {
     "name": "stdout",
     "output_type": "stream",
     "text": [
      "實付金額:80000\n"
     ]
    }
   ],
   "source": [
    "#輸入顧客購買金額，如金額在\n",
    "#100000元打8折\n",
    "#50000打85折\n",
    "#30000打9折\n",
    "#10000打95折\n",
    "\n",
    "money = int(input(\"輸入購買金額\"))\n",
    "payMoney = 0\n",
    "if money >=100000:\n",
    "    payMoney = money*0.8\n",
    "elif money >= 50000:\n",
    "    payMoney = money*0.85\n",
    "elif money >= 30000:\n",
    "    payMoney = money*0.9\n",
    "elif money >= 10000:\n",
    "    payMoney = money*0.95\n",
    "else:\n",
    "    payMoney = money\n",
    "\n",
    "print(f\"實付金額:{int(payMoney)}\")"
   ]
  },
  {
   "cell_type": "code",
   "execution_count": 16,
   "metadata": {},
   "outputs": [
    {
     "name": "stdout",
     "output_type": "stream",
     "text": [
      "實付金額80000)\n"
     ]
    }
   ],
   "source": [
    "#輸入顧客購買金額，如金額在\n",
    "#100000元打8折\n",
    "#50000打85折\n",
    "#30000打9折\n",
    "#10000打95折\n",
    "\n",
    "money = int(input(\"輸入購買金額\"))\n",
    "payMoney = 0\n",
    "if money < 10000:\n",
    "    payMoney=money\n",
    "elif money <30000:\n",
    "    payMoney = money*0.95\n",
    "elif money <50000:\n",
    "    payMoney = money*0.9\n",
    "elif money <100000:\n",
    "    payMoney = money*0.85\n",
    "else:\n",
    "    payMoney = money*0.8\n",
    "\n",
    "print(f\"實付金額{int(payMoney)})\")"
   ]
  },
  {
   "cell_type": "code",
   "execution_count": 23,
   "metadata": {},
   "outputs": [
    {
     "name": "stdout",
     "output_type": "stream",
     "text": [
      "輔導級\n"
     ]
    }
   ],
   "source": [
    "#限制級:18歲或以上可以欣賞\n",
    "#輔導級:13(含)~17\n",
    "#普遍級:12(含)以下\n",
    "\n",
    "age = input(\"請輸入年齡\")\n",
    "rating = \"\"\n",
    "\n",
    "if age == \"\":\n",
    "    rating = \"普遍級\"\n",
    "elif int(age) <13:\n",
    "    rating = \"普遍級\"\n",
    "elif int(age) <18:\n",
    "     rating = \"輔導級\"\n",
    "else:\n",
    "    rating = \"限制級\"\n",
    "\n",
    "print(rating)\n"
   ]
  }
 ],
 "metadata": {
  "kernelspec": {
   "display_name": "Python 3",
   "language": "python",
   "name": "python3"
  },
  "language_info": {
   "codemirror_mode": {
    "name": "ipython",
    "version": 3
   },
   "file_extension": ".py",
   "mimetype": "text/x-python",
   "name": "python",
   "nbconvert_exporter": "python",
   "pygments_lexer": "ipython3",
   "version": "3.10.12"
  },
  "orig_nbformat": 4
 },
 "nbformat": 4,
 "nbformat_minor": 2
}
