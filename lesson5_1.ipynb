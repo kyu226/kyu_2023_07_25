{
 "cells": [
  {
   "cell_type": "code",
   "execution_count": null,
   "metadata": {},
   "outputs": [],
   "source": [
    "chines = int(input(\"請輸入國文分數\"))\n",
    "math = int(input(\"請輸入數學分數\"))\n",
    "#槽狀判斷\n",
    "bonus=0\n",
    "\n",
    "if chines  == 100:\n",
    "    if math == 100:\n",
    "        bonus = 1000\n",
    "    else:\n",
    "        bonus = 500 \n",
    "else:\n",
    "    if math == 100:\n",
    "        bonus == 500\n",
    "    else:\n",
    "        bonus = 0\n"
   ]
  },
  {
   "cell_type": "code",
   "execution_count": 6,
   "metadata": {},
   "outputs": [
    {
     "name": "stdout",
     "output_type": "stream",
     "text": [
      "獎金0\n"
     ]
    }
   ],
   "source": [
    "chines = int(input(\"請輸入國文分數\"))\n",
    "math = int(input(\"請輸入數學分數\"))\n",
    "#使用邏輯運算子\n",
    "bonus=0\n",
    "#嚴格的先寫\n",
    "if chines  == 100 and math ==100:\n",
    "    bonus = 1000\n",
    "elif chines == 100 or math == 100:\n",
    "    bonus = 500\n",
    "else:\n",
    "    bonus = 0\n",
    "print(f\"獎金{bonus}\")\n"
   ]
  },
  {
   "cell_type": "code",
   "execution_count": 9,
   "metadata": {},
   "outputs": [
    {
     "name": "stdout",
     "output_type": "stream",
     "text": [
      "獎金為1000\n"
     ]
    }
   ],
   "source": [
    "chines=int(input(\"請輸入國文分數\"))\n",
    "math=int(input(\"請輸入數學分數\"))\n",
    "bonus=0\n",
    "\n",
    "if chines == 100 and math == 100:\n",
    "    bonus = 1000\n",
    "elif chines == 100 or math ==100:\n",
    "    bonus = 500\n",
    "else:\n",
    "    bonus = 0\n",
    "print(f\"獎金為{bonus}\")"
   ]
  },
  {
   "cell_type": "code",
   "execution_count": null,
   "metadata": {},
   "outputs": [],
   "source": [
    "presue = int(input(\"請輸入血壓值\"))\n",
    "if presue >=80 and presue <= 120:\n",
    "    print(\"血壓不正常\")\n",
    "else:\n",
    "    print(\"血壓正常\")\n",
    "    "
   ]
  },
  {
   "cell_type": "code",
   "execution_count": 16,
   "metadata": {},
   "outputs": [],
   "source": [
    "#BMI計算\n",
    "try:\n",
    "    height=float(input(\"請輸入身高(單位為公分)\"))\n",
    "    weight=float(input(\"請輸入體重(公斤)\"))\n",
    "\n",
    "    bmi = weight / (height/100)**2\n",
    "    suggest = \"\"\n",
    "    if bmi <18.5 :\n",
    "        suggest=\"體重過輕\"\n",
    "    elif bmi <24:\n",
    "        suggest = \"正常範圍\"\n",
    "    elif bmi <27:\n",
    "        suggest = \"輕度肥胖\"\n",
    "    elif bmi <35:\n",
    "        suggert = \"中度肥胖\"\n",
    "    else:\n",
    "        suggert =\"重度肥胖\"   \n",
    "\n",
    "    print(f\"您的身高為{height}\")\n",
    "    print(f\"您的體重為{weight}\")\n",
    "    print(f\"您的BMI為{bmi:.2f}\")\n",
    "    print(f\"提示{suggest}\")\n",
    "except:\n",
    "    print(\"格式錯誤\")"
   ]
  }
 ],
 "metadata": {
  "kernelspec": {
   "display_name": "Python 3",
   "language": "python",
   "name": "python3"
  },
  "language_info": {
   "codemirror_mode": {
    "name": "ipython",
    "version": 3
   },
   "file_extension": ".py",
   "mimetype": "text/x-python",
   "name": "python",
   "nbconvert_exporter": "python",
   "pygments_lexer": "ipython3",
   "version": "3.10.12"
  },
  "orig_nbformat": 4
 },
 "nbformat": 4,
 "nbformat_minor": 2
}
