{
 "cells": [
  {
   "cell_type": "code",
   "execution_count": 4,
   "metadata": {},
   "outputs": [
    {
     "name": "stdout",
     "output_type": "stream",
     "text": [
      "<class 'pandas.core.frame.DataFrame'>\n",
      "RangeIndex: 3065 entries, 0 to 3064\n",
      "Data columns (total 18 columns):\n",
      " #   Column  Non-Null Count  Dtype  \n",
      "---  ------  --------------  -----  \n",
      " 0   年別      3065 non-null   int64  \n",
      " 1   類型      3065 non-null   object \n",
      " 2   觀光遊憩區   3065 non-null   object \n",
      " 3   細分      3065 non-null   object \n",
      " 4   縣市別     3065 non-null   object \n",
      " 5   1月      3064 non-null   float64\n",
      " 6   2月      3064 non-null   float64\n",
      " 7   3月      3064 non-null   float64\n",
      " 8   4月      3064 non-null   float64\n",
      " 9   5月      3064 non-null   float64\n",
      " 10  6月      3064 non-null   float64\n",
      " 11  7月      3064 non-null   float64\n",
      " 12  8月      3064 non-null   float64\n",
      " 13  9月      3064 non-null   float64\n",
      " 14  10月     3064 non-null   float64\n",
      " 15  11月     2741 non-null   float64\n",
      " 16  12月     2741 non-null   float64\n",
      " 17  合計      3065 non-null   int64  \n",
      "dtypes: float64(12), int64(2), object(4)\n",
      "memory usage: 431.1+ KB\n"
     ]
    }
   ],
   "source": [
    "import pandas as pd\n",
    "import numpy as np\n",
    "\n",
    "url = 'https://raw.githubusercontent.com/roberthsu2003/PythonForDataAnalysis/master/%E6%95%B8%E6%93%9A%E6%95%B4%E7%90%86_%E9%80%A3%E6%8E%A5_%E5%90%88%E4%BD%B5_%E9%87%8D%E5%A1%91/%E6%AD%B7%E5%B9%B4%E5%9C%8B%E5%85%A7%E4%B8%BB%E8%A6%81%E8%A7%80%E5%85%89%E9%81%8A%E6%86%A9%E6%93%9A%E9%BB%9E%E9%81%8A%E5%AE%A2%E4%BA%BA%E6%95%B8%E6%9C%88%E5%88%A5%E7%B5%B1%E8%A8%88.csv'\n",
    "\n",
    "dataFrame = pd.read_csv(url,encoding='utf-8')\n",
    "dataFrame.info()"
   ]
  }
 ],
 "metadata": {
  "kernelspec": {
   "display_name": "Python 3",
   "language": "python",
   "name": "python3"
  },
  "language_info": {
   "codemirror_mode": {
    "name": "ipython",
    "version": 3
   },
   "file_extension": ".py",
   "mimetype": "text/x-python",
   "name": "python",
   "nbconvert_exporter": "python",
   "pygments_lexer": "ipython3",
   "version": "3.10.13"
  }
 },
 "nbformat": 4,
 "nbformat_minor": 2
}
