{
 "cells": [
  {
   "cell_type": "code",
   "execution_count": 4,
   "metadata": {},
   "outputs": [
    {
     "data": {
      "text/plain": [
       "[['黃靜怡', 60, 63, 72, 79, 67],\n",
       " ['戚亨', 96, 68, 63, 79, 59],\n",
       " ['謝佳穎', 79, 69, 89, 80, 81],\n",
       " ['林向鈺', 52, 81, 58, 60, 95],\n",
       " ['白美珍', 95, 86, 56, 57, 60],\n",
       " ['謝貞妃', 55, 65, 95, 72, 97],\n",
       " ['黃志福', 66, 80, 60, 87, 88],\n",
       " ['周家銘', 97, 90, 77, 59, 90],\n",
       " ['林佳人', 82, 60, 95, 88, 53],\n",
       " ['林詠斌', 62, 57, 74, 50, 66],\n",
       " ['賴佳雯', 56, 54, 58, 91, 68],\n",
       " ['林向鈺', 60, 82, 59, 84, 89],\n",
       " ['簡佳樺', 96, 83, 88, 50, 69],\n",
       " ['龐皓芳', 82, 82, 94, 79, 79],\n",
       " ['陳建豪', 90, 54, 76, 65, 100],\n",
       " ['林昱芳', 60, 56, 77, 87, 95],\n",
       " ['陳倩潔', 90, 100, 97, 90, 88],\n",
       " ['黃淑芬', 99, 54, 90, 54, 98],\n",
       " ['羅幸娥', 67, 88, 93, 88, 82],\n",
       " ['林士凱', 64, 74, 97, 66, 64],\n",
       " ['林瑞喬', 67, 63, 93, 57, 66],\n",
       " ['楊韻如', 66, 56, 97, 100, 51],\n",
       " ['楊偉翔', 85, 74, 75, 72, 89],\n",
       " ['陳淑娟', 86, 73, 72, 75, 85],\n",
       " ['林佳慧', 76, 89, 66, 99, 90],\n",
       " ['李進慧', 88, 82, 67, 93, 63],\n",
       " ['王雅琴', 100, 83, 83, 82, 59],\n",
       " ['楊建安', 50, 96, 50, 100, 75],\n",
       " ['羅佩樺', 67, 84, 64, 53, 66],\n",
       " ['郭致恬', 58, 50, 56, 83, 52],\n",
       " ['周家銘', 97, 94, 91, 52, 91],\n",
       " ['蔡士賢', 91, 81, 95, 61, 75],\n",
       " ['臧怡君', 88, 56, 97, 70, 94],\n",
       " ['張韋成', 71, 78, 74, 79, 60],\n",
       " ['蕭怡伶', 93, 89, 82, 82, 85],\n",
       " ['葉志峰', 65, 81, 72, 82, 97],\n",
       " ['羅幸娥', 89, 73, 74, 100, 51],\n",
       " ['張婕妤', 94, 87, 73, 58, 61],\n",
       " ['周家銘', 95, 60, 87, 69, 98],\n",
       " ['黃偉剛', 66, 98, 71, 91, 67],\n",
       " ['楊少亮', 100, 67, 90, 90, 53],\n",
       " ['劉耿琦', 73, 57, 86, 77, 66],\n",
       " ['李佳彥', 89, 65, 94, 63, 50],\n",
       " ['戴萱能', 53, 61, 76, 95, 68],\n",
       " ['陳怡容', 51, 68, 59, 76, 98],\n",
       " ['陳怡容', 93, 89, 99, 90, 87],\n",
       " ['葉祖雄', 50, 88, 70, 59, 50],\n",
       " ['黃佩芬', 100, 74, 80, 54, 56],\n",
       " ['賴佳雯', 73, 59, 75, 51, 72],\n",
       " ['戚亨', 91, 74, 84, 89, 52]]"
      ]
     },
     "execution_count": 4,
     "metadata": {},
     "output_type": "execute_result"
    }
   ],
   "source": [
    "import random\n",
    "def getscore():\n",
    "    score=[]\n",
    "    for i in range(5):\n",
    "        score.append(random.randint(50,100))\n",
    "    return score\n",
    "def get_name(nums:int)->list:\n",
    "    with open('names.txt',encoding='utf-8',newline='') as file:\n",
    "        name_str=file.read()\n",
    "        all_names_list=name_str.split(sep=\"\\n\")\n",
    "        names_list=random.choices(all_names_list,k=nums)#取出一定數量姓名\n",
    "    return names_list\n",
    "\n",
    "nums_int=int(input(\"請輸入學生數:\"))\n",
    "#取得nums個姓名\n",
    "names_list=get_name(nums_int)\n",
    "students=[]\n",
    "for i in range(nums_int):\n",
    "    scores=getscore()\n",
    "    new_list=[names_list[i]]+scores\n",
    "    students.append(new_list)\n",
    "\n",
    "students\n",
    "\n"
   ]
  },
  {
   "cell_type": "code",
   "execution_count": 6,
   "metadata": {},
   "outputs": [
    {
     "name": "stdout",
     "output_type": "stream",
     "text": [
      "存檔成功\n"
     ]
    }
   ],
   "source": [
    "import csv\n",
    "#將二維的list儲存為csv檔\n",
    "fileName=input(\"請輸入檔案名\")\n",
    "with open(f'{fileName}.csv',mode='w',encoding='utf-8',newline='') as file:\n",
    "    csv_writer=csv.writer(file)\n",
    "    csv_writer.writerow([\"姓名\",\"國文\",\"英文\",\"數學\",\"地理\",\"歷史\"])\n",
    "    csv_writer.writerows(students)\n",
    "\n",
    "print(\"存檔成功\")"
   ]
  }
 ],
 "metadata": {
  "kernelspec": {
   "display_name": "Python 3",
   "language": "python",
   "name": "python3"
  },
  "language_info": {
   "codemirror_mode": {
    "name": "ipython",
    "version": 3
   },
   "file_extension": ".py",
   "mimetype": "text/x-python",
   "name": "python",
   "nbconvert_exporter": "python",
   "pygments_lexer": "ipython3",
   "version": "3.10.11"
  },
  "orig_nbformat": 4
 },
 "nbformat": 4,
 "nbformat_minor": 2
}
