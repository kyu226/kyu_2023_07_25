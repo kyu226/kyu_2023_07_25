{
 "cells": [
  {
   "cell_type": "code",
   "execution_count": 5,
   "metadata": {},
   "outputs": [],
   "source": [
    "import pandas as pd\n",
    "\n",
    "df = pd.read_csv(\"學生成績.csv\")\n",
    "name_s=df['姓名']\n"
   ]
  },
  {
   "cell_type": "code",
   "execution_count": 10,
   "metadata": {},
   "outputs": [
    {
     "data": {
      "text/plain": [
       "0     盧冠發\n",
       "1     林佳人\n",
       "2     林益妏\n",
       "3     藍哲嘉\n",
       "4     王柏聖\n",
       "5     鞠冠宇\n",
       "6     林益妏\n",
       "7     王人仰\n",
       "8     張俊傑\n",
       "9     黃雅慧\n",
       "10    詹忠光\n",
       "11    張軒宸\n",
       "12    林清英\n",
       "13    劉耿琦\n",
       "14    陳彥治\n",
       "15    陳向愛\n",
       "16    陳逸凡\n",
       "17    艾巧夫\n",
       "18    魏秋萍\n",
       "19    余宗儒\n",
       "20    趙家豪\n",
       "21    鍾俞禎\n",
       "22    王惠皓\n",
       "23    黃彥孝\n",
       "24    林珍旺\n",
       "25    吳晴洋\n",
       "26    謝哲維\n",
       "27    王坤安\n",
       "28    吳昕婷\n",
       "29    蔡世馨\n",
       "30    王良斌\n",
       "31    黃旻林\n",
       "32    黃詩妃\n",
       "33    趙偉銘\n",
       "34    黃淑芬\n",
       "35    黃嘉琪\n",
       "36    林康亮\n",
       "37    張凡成\n",
       "38    黃淑芬\n",
       "39    張彥博\n",
       "40    胡芳瑜\n",
       "41    陳志偉\n",
       "42    楊火帆\n",
       "43    周琬婷\n",
       "44    楊偉翔\n",
       "45    馮淑芬\n",
       "46    吳俐芷\n",
       "47    王柏聖\n",
       "48    賴心怡\n",
       "49    方筠紹\n",
       "Name: 姓名, dtype: object"
      ]
     },
     "metadata": {},
     "output_type": "display_data"
    },
    {
     "data": {
      "text/plain": [
       "'盧冠發'"
      ]
     },
     "metadata": {},
     "output_type": "display_data"
    },
    {
     "name": "stdout",
     "output_type": "stream",
     "text": [
      "==========\n"
     ]
    },
    {
     "data": {
      "text/plain": [
       "0    盧冠發\n",
       "1    林佳人\n",
       "2    林益妏\n",
       "Name: 姓名, dtype: object"
      ]
     },
     "metadata": {},
     "output_type": "display_data"
    },
    {
     "name": "stdout",
     "output_type": "stream",
     "text": [
      "==========\n"
     ]
    },
    {
     "data": {
      "text/plain": [
       "47    王柏聖\n",
       "48    賴心怡\n",
       "49    方筠紹\n",
       "Name: 姓名, dtype: object"
      ]
     },
     "metadata": {},
     "output_type": "display_data"
    },
    {
     "name": "stdout",
     "output_type": "stream",
     "text": [
      "==========\n"
     ]
    },
    {
     "data": {
      "text/plain": [
       "0    盧冠發\n",
       "5    鞠冠宇\n",
       "8    張俊傑\n",
       "Name: 姓名, dtype: object"
      ]
     },
     "metadata": {},
     "output_type": "display_data"
    }
   ],
   "source": [
    "#Series的subscript\n",
    "display(name_s)\n",
    "display(name_s[0])\n",
    "print('==========')\n",
    "display(name_s[:3])\n",
    "print('==========')\n",
    "display(name_s[-3:])\n",
    "print('==========')\n",
    "display(name_s[[0,5,8]])"
   ]
  }
 ],
 "metadata": {
  "kernelspec": {
   "display_name": "Python 3",
   "language": "python",
   "name": "python3"
  },
  "language_info": {
   "codemirror_mode": {
    "name": "ipython",
    "version": 3
   },
   "file_extension": ".py",
   "mimetype": "text/x-python",
   "name": "python",
   "nbconvert_exporter": "python",
   "pygments_lexer": "ipython3",
   "version": "3.10.13"
  }
 },
 "nbformat": 4,
 "nbformat_minor": 2
}
