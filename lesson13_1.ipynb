{
 "cells": [
  {
   "cell_type": "code",
   "execution_count": 10,
   "metadata": {},
   "outputs": [],
   "source": [
    "class Student:\n",
    "    def __init__(self,name:str,chinese:int,english:int,math:int) :\n",
    "\n",
    "        self.name = name\n",
    "        self.chinese = chinese\n",
    "        self.english = english\n",
    "        self.math = math\n",
    "    #實體方法method\n",
    "    def total(self)->int:\n",
    "        return self.chinese + self.english +self.math\n",
    "    #建立property\n",
    "    @property\n",
    "    def average(self)->float:\n",
    "        return self.total()/3.0\n",
    "    \n",
    "    def __repr__(self):\n",
    "        return f'我是student實體,我的name:{self.name}'"
   ]
  },
  {
   "cell_type": "code",
   "execution_count": 13,
   "metadata": {},
   "outputs": [
    {
     "data": {
      "text/plain": [
       "('徐國堂', 90, 80, 80)"
      ]
     },
     "metadata": {},
     "output_type": "display_data"
    },
    {
     "name": "stdout",
     "output_type": "stream",
     "text": [
      "250 <bound method Student.average of 我是student實體,我的name:徐國堂>\n"
     ]
    },
    {
     "data": {
      "text/plain": [
       "我是student實體,我的name:徐國堂"
      ]
     },
     "metadata": {},
     "output_type": "display_data"
    }
   ],
   "source": [
    "stu1=Student('徐國堂',90,80,80)\n",
    "display((stu1.name,stu1.chinese,stu1.english,stu1.math))\n",
    "print(stu1.total( ),stu1.average)\n",
    "display(stu1)\n"
   ]
  },
  {
   "cell_type": "code",
   "execution_count": 2,
   "metadata": {},
   "outputs": [
    {
     "ename": "NameError",
     "evalue": "name 'Student' is not defined",
     "output_type": "error",
     "traceback": [
      "\u001b[1;31m---------------------------------------------------------------------------\u001b[0m",
      "\u001b[1;31mNameError\u001b[0m                                 Traceback (most recent call last)",
      "\u001b[1;32mc:\\python310\\kyu_2023_07_25-1\\lesson13_1.ipynb 儲存格 3\u001b[0m line \u001b[0;36m1\n\u001b[1;32m----> <a href='vscode-notebook-cell:/c%3A/python310/kyu_2023_07_25-1/lesson13_1.ipynb#W2sZmlsZQ%3D%3D?line=0'>1</a>\u001b[0m stu2\u001b[39m=\u001b[39mStudent(name\u001b[39m=\u001b[39m\u001b[39m'\u001b[39m\u001b[39m張XX\u001b[39m\u001b[39m'\u001b[39m,chinese\u001b[39m=\u001b[39m\u001b[39m69\u001b[39m,english\u001b[39m=\u001b[39m\u001b[39m69\u001b[39m,math\u001b[39m=\u001b[39m\u001b[39m70\u001b[39m)\n\u001b[0;32m      <a href='vscode-notebook-cell:/c%3A/python310/kyu_2023_07_25-1/lesson13_1.ipynb#W2sZmlsZQ%3D%3D?line=1'>2</a>\u001b[0m display((stu2\u001b[39m.\u001b[39mname,stu2\u001b[39m.\u001b[39mchinese,stu2\u001b[39m.\u001b[39menglish,stu2\u001b[39m.\u001b[39mmath))\n\u001b[0;32m      <a href='vscode-notebook-cell:/c%3A/python310/kyu_2023_07_25-1/lesson13_1.ipynb#W2sZmlsZQ%3D%3D?line=2'>3</a>\u001b[0m stu2\u001b[39m.\u001b[39mtotal()\n",
      "\u001b[1;31mNameError\u001b[0m: name 'Student' is not defined"
     ]
    }
   ],
   "source": [
    "stu2=Student(name='張XX',chinese=69,english=69,math=70)\n",
    "display((stu2.name,stu2.chinese,stu2.english,stu2.math))\n",
    "stu2.total()"
   ]
  },
  {
   "cell_type": "code",
   "execution_count": 12,
   "metadata": {},
   "outputs": [
    {
     "data": {
      "text/plain": [
       "('林XX', 96, 69, 70)"
      ]
     },
     "execution_count": 12,
     "metadata": {},
     "output_type": "execute_result"
    }
   ],
   "source": [
    "stu3=Student(name='林XX',chinese=96,english=69,math=70)\n",
    "stu3.name,stu3.chinese,stu3.english,stu3.math"
   ]
  },
  {
   "cell_type": "code",
   "execution_count": 14,
   "metadata": {},
   "outputs": [],
   "source": [
    "class Student:\n",
    "    def __init__(self, name:str, chinese:int, english:int, math:int):\n",
    "        self.name = name\n",
    "        self.chinese = chinese\n",
    "        self.english = english\n",
    "        self.math = math\n",
    "\n",
    "    #實體方法method\n",
    "    def total(self)->int:\n",
    "        return self.chinese + self.english +self.math\n",
    "\n",
    "    #建立property\n",
    "    @property\n",
    "    def average(self)->float:\n",
    "        return self.total() / 3.0\n",
    "    \n",
    "    def __repr__(self):\n",
    "        return f'我是student實體,我的name:{self.name}'\n"
   ]
  },
  {
   "cell_type": "code",
   "execution_count": 15,
   "metadata": {},
   "outputs": [
    {
     "data": {
      "text/plain": [
       "('徐國堂', 90, 80, 80)"
      ]
     },
     "metadata": {},
     "output_type": "display_data"
    },
    {
     "name": "stdout",
     "output_type": "stream",
     "text": [
      "250 83.33333333333333\n"
     ]
    },
    {
     "data": {
      "text/plain": [
       "我是student實體,我的name:徐國堂"
      ]
     },
     "metadata": {},
     "output_type": "display_data"
    }
   ],
   "source": [
    "stu1=Student('徐國堂',90,80,80)\n",
    "display((stu1.name,stu1.chinese,stu1.english,stu1.math))\n",
    "print(stu1.total( ),stu1.average)\n",
    "display(stu1)"
   ]
  }
 ],
 "metadata": {
  "kernelspec": {
   "display_name": "Python 3",
   "language": "python",
   "name": "python3"
  },
  "language_info": {
   "codemirror_mode": {
    "name": "ipython",
    "version": 3
   },
   "file_extension": ".py",
   "mimetype": "text/x-python",
   "name": "python",
   "nbconvert_exporter": "python",
   "pygments_lexer": "ipython3",
   "version": "3.10.11"
  },
  "orig_nbformat": 4
 },
 "nbformat": 4,
 "nbformat_minor": 2
}
