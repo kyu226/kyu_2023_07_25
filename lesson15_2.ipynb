{
 "cells": [
  {
   "cell_type": "code",
   "execution_count": 1,
   "metadata": {},
   "outputs": [
    {
     "data": {
      "text/plain": [
       "[3, 7, 11, 15, 19]"
      ]
     },
     "execution_count": 1,
     "metadata": {},
     "output_type": "execute_result"
    }
   ],
   "source": [
    "#建立list\n",
    "a = [1,3,5,7,9]\n",
    "a*2\n",
    "\n",
    "b = [2,4,6,8,10]\n",
    "a+b\n",
    "\n",
    "result = []\n",
    "for i in range(5):\n",
    "    result.append(a[i]+b[i])\n",
    "\n",
    "result"
   ]
  },
  {
   "cell_type": "code",
   "execution_count": 6,
   "metadata": {},
   "outputs": [
    {
     "data": {
      "text/plain": [
       "array([ 3,  7, 11, 15, 19])"
      ]
     },
     "execution_count": 6,
     "metadata": {},
     "output_type": "execute_result"
    }
   ],
   "source": [
    "import numpy as np\n",
    "\n",
    "a_array=np.array([1,3,5,7,9])\n",
    "a_array*2\n",
    "\n",
    "b_array = np.array([2,4,6,8,10])\n",
    "\n",
    "a_array+b_array"
   ]
  },
  {
   "cell_type": "code",
   "execution_count": 7,
   "metadata": {},
   "outputs": [
    {
     "data": {
      "text/plain": [
       "[71, 52, 54, 70, 97]"
      ]
     },
     "execution_count": 7,
     "metadata": {},
     "output_type": "execute_result"
    }
   ],
   "source": [
    "#使用python建立五個亂元素的list\n",
    "import random\n",
    "[random.randint(50,100) for _ in range(5)]"
   ]
  },
  {
   "cell_type": "code",
   "execution_count": 8,
   "metadata": {},
   "outputs": [
    {
     "data": {
      "text/plain": [
       "array([[81, 71, 97, 58, 51],\n",
       "       [83, 98, 63, 91, 59],\n",
       "       [96, 94, 89, 66, 50],\n",
       "       [57, 84, 69, 85, 92],\n",
       "       [93, 75, 83, 94, 66],\n",
       "       [82, 88, 82, 70, 99],\n",
       "       [52, 99, 69, 56, 63],\n",
       "       [75, 87, 94, 98, 99],\n",
       "       [99, 97, 66, 55, 76],\n",
       "       [61, 64, 50, 62, 87],\n",
       "       [50, 59, 65, 94, 70],\n",
       "       [72, 51, 52, 59, 95],\n",
       "       [83, 70, 56, 57, 95],\n",
       "       [73, 97, 54, 75, 70],\n",
       "       [66, 61, 74, 61, 76],\n",
       "       [76, 60, 60, 92, 69],\n",
       "       [79, 90, 77, 58, 57],\n",
       "       [71, 63, 85, 69, 60],\n",
       "       [63, 84, 60, 66, 55],\n",
       "       [73, 79, 69, 76, 73],\n",
       "       [93, 88, 97, 74, 71],\n",
       "       [69, 61, 91, 51, 87],\n",
       "       [99, 57, 54, 76, 64],\n",
       "       [58, 99, 91, 87, 80],\n",
       "       [56, 76, 80, 69, 80],\n",
       "       [97, 68, 51, 82, 67],\n",
       "       [96, 61, 55, 52, 85],\n",
       "       [74, 80, 77, 61, 73],\n",
       "       [84, 59, 86, 57, 73],\n",
       "       [94, 79, 61, 98, 78],\n",
       "       [54, 80, 85, 83, 72],\n",
       "       [95, 86, 95, 51, 95],\n",
       "       [90, 61, 61, 62, 67],\n",
       "       [53, 65, 93, 59, 80],\n",
       "       [64, 92, 58, 53, 56],\n",
       "       [51, 55, 86, 71, 78],\n",
       "       [69, 77, 63, 58, 67],\n",
       "       [58, 65, 63, 60, 64],\n",
       "       [75, 78, 83, 65, 70],\n",
       "       [98, 92, 65, 82, 82],\n",
       "       [86, 58, 70, 89, 71],\n",
       "       [79, 93, 59, 80, 96],\n",
       "       [79, 67, 75, 93, 60],\n",
       "       [72, 76, 52, 52, 83],\n",
       "       [59, 91, 88, 91, 63],\n",
       "       [74, 85, 84, 70, 95],\n",
       "       [96, 60, 60, 62, 60],\n",
       "       [70, 71, 64, 61, 80],\n",
       "       [72, 55, 84, 71, 90],\n",
       "       [68, 78, 89, 72, 50]])"
      ]
     },
     "execution_count": 8,
     "metadata": {},
     "output_type": "execute_result"
    }
   ],
   "source": [
    "#使用numpy random 建立亂數 \n",
    "\n",
    "import numpy as np\n",
    "np.random.randint(50,high=100,size=(50,5))"
   ]
  }
 ],
 "metadata": {
  "kernelspec": {
   "display_name": "Python 3",
   "language": "python",
   "name": "python3"
  },
  "language_info": {
   "codemirror_mode": {
    "name": "ipython",
    "version": 3
   },
   "file_extension": ".py",
   "mimetype": "text/x-python",
   "name": "python",
   "nbconvert_exporter": "python",
   "pygments_lexer": "ipython3",
   "version": "3.10.13"
  },
  "orig_nbformat": 4
 },
 "nbformat": 4,
 "nbformat_minor": 2
}
