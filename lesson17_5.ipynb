{
 "cells": [
  {
   "cell_type": "code",
   "execution_count": 8,
   "metadata": {},
   "outputs": [
    {
     "data": {
      "text/plain": [
       "0      95\n",
       "1      70\n",
       "2      56\n",
       "3      75\n",
       "4      55\n",
       "5      52\n",
       "6      63\n",
       "7      55\n",
       "8      72\n",
       "9      94\n",
       "10     60\n",
       "11     64\n",
       "12     96\n",
       "13     99\n",
       "14     60\n",
       "15     93\n",
       "16     75\n",
       "17     63\n",
       "18     74\n",
       "19     92\n",
       "20    100\n",
       "21     63\n",
       "22     57\n",
       "23     82\n",
       "24     70\n",
       "25     92\n",
       "26     77\n",
       "27     93\n",
       "28     97\n",
       "29     55\n",
       "30     94\n",
       "31     68\n",
       "32     73\n",
       "33     97\n",
       "34     92\n",
       "35     85\n",
       "36     85\n",
       "37     98\n",
       "38     64\n",
       "39     97\n",
       "40     59\n",
       "41     77\n",
       "42     99\n",
       "43     83\n",
       "44     85\n",
       "45     75\n",
       "46     84\n",
       "47     50\n",
       "48     86\n",
       "49     92\n",
       "Name: 國文, dtype: int64"
      ]
     },
     "execution_count": 8,
     "metadata": {},
     "output_type": "execute_result"
    }
   ],
   "source": [
    "import pandas as pd\n",
    "\n",
    "df = pd.read_csv(\"學生成績.csv\")\n",
    "\n",
    "#使用Sub搜尋Series value\n",
    "chinese_s=df['國文']\n",
    "chinese_s"
   ]
  },
  {
   "cell_type": "code",
   "execution_count": 10,
   "metadata": {},
   "outputs": [
    {
     "data": {
      "text/plain": [
       "0      95\n",
       "1      70\n",
       "3      75\n",
       "6      63\n",
       "8      72\n",
       "9      94\n",
       "10     60\n",
       "11     64\n",
       "12     96\n",
       "13     99\n",
       "14     60\n",
       "15     93\n",
       "16     75\n",
       "17     63\n",
       "18     74\n",
       "19     92\n",
       "20    100\n",
       "21     63\n",
       "23     82\n",
       "24     70\n",
       "25     92\n",
       "26     77\n",
       "27     93\n",
       "28     97\n",
       "30     94\n",
       "31     68\n",
       "32     73\n",
       "33     97\n",
       "34     92\n",
       "35     85\n",
       "36     85\n",
       "37     98\n",
       "38     64\n",
       "39     97\n",
       "41     77\n",
       "42     99\n",
       "43     83\n",
       "44     85\n",
       "45     75\n",
       "46     84\n",
       "48     86\n",
       "49     92\n",
       "Name: 國文, dtype: int64"
      ]
     },
     "execution_count": 10,
     "metadata": {},
     "output_type": "execute_result"
    }
   ],
   "source": [
    "chinese_s[chinese_s >= 60]"
   ]
  }
 ],
 "metadata": {
  "kernelspec": {
   "display_name": "Python 3",
   "language": "python",
   "name": "python3"
  },
  "language_info": {
   "codemirror_mode": {
    "name": "ipython",
    "version": 3
   },
   "file_extension": ".py",
   "mimetype": "text/x-python",
   "name": "python",
   "nbconvert_exporter": "python",
   "pygments_lexer": "ipython3",
   "version": "3.10.13"
  }
 },
 "nbformat": 4,
 "nbformat_minor": 2
}
