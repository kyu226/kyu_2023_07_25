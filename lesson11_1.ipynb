{
 "cells": [
  {
   "cell_type": "code",
   "execution_count": 6,
   "metadata": {},
   "outputs": [
    {
     "data": {
      "text/plain": [
       "[['謝貞妃', 55, 82, 90, 75, 81],\n",
       " ['劉林中', 59, 59, 78, 50, 66],\n",
       " ['楊偉翔', 52, 50, 95, 62, 55],\n",
       " ['陳家年', 59, 57, 88, 64, 77],\n",
       " ['張婕妤', 57, 69, 91, 67, 57]]"
      ]
     },
     "execution_count": 6,
     "metadata": {},
     "output_type": "execute_result"
    }
   ],
   "source": [
    "import random\n",
    "def getscore():\n",
    "    score=[]\n",
    "    for i in range(5):\n",
    "        score.append(random.randint(50,100))\n",
    "    return score\n",
    "\n",
    "nums=int(input(\"請輸入學生數:\"))\n",
    "#取得30個姓名\n",
    "with open('names.txt',encoding='utf-8',newline='') as file:\n",
    "    name_str=file.read()\n",
    "    all_names_list=name_str.split(sep=\"\\n\")\n",
    "    names_list=random.choices(all_names_list,k=nums)#取出一定數量姓名\n",
    "\n",
    "students=[]\n",
    "for i in range(nums):\n",
    "    scores=getscore()\n",
    "    new_list=[names_list[i]]+scores\n",
    "    students.append(new_list)\n",
    "\n",
    "students "
   ]
  }
 ],
 "metadata": {
  "kernelspec": {
   "display_name": "Python 3",
   "language": "python",
   "name": "python3"
  },
  "language_info": {
   "codemirror_mode": {
    "name": "ipython",
    "version": 3
   },
   "file_extension": ".py",
   "mimetype": "text/x-python",
   "name": "python",
   "nbconvert_exporter": "python",
   "pygments_lexer": "ipython3",
   "version": "3.10.11"
  },
  "orig_nbformat": 4
 },
 "nbformat": 4,
 "nbformat_minor": 2
}
