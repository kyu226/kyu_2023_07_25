{
 "cells": [
  {
   "cell_type": "code",
   "execution_count": 6,
   "metadata": {},
   "outputs": [
    {
     "data": {
      "text/plain": [
       "[['謝貞妃', 55, 82, 90, 75, 81],\n",
       " ['劉林中', 59, 59, 78, 50, 66],\n",
       " ['楊偉翔', 52, 50, 95, 62, 55],\n",
       " ['陳家年', 59, 57, 88, 64, 77],\n",
       " ['張婕妤', 57, 69, 91, 67, 57]]"
      ]
     },
     "execution_count": 6,
     "metadata": {},
     "output_type": "execute_result"
    }
   ],
   "source": [
    "import random\n",
    "def getscore():\n",
    "    score=[]\n",
    "    for i in range(5):\n",
    "        score.append(random.randint(50,100))\n",
    "    return score\n",
    "\n",
    "nums=int(input(\"請輸入學生數:\"))\n",
    "#取得30個姓名\n",
    "with open('names.txt',encoding='utf-8',newline='') as file:\n",
    "    name_str=file.read()\n",
    "    all_names_list=name_str.split(sep=\"\\n\")\n",
    "    names_list=random.choices(all_names_list,k=nums)#取出一定數量姓名\n",
    "\n",
    "students=[]\n",
    "for i in range(nums):\n",
    "    scores=getscore()\n",
    "    new_list=[names_list[i]]+scores\n",
    "    students.append(new_list)\n",
    "\n",
    "students "
   ]
  },
  {
   "cell_type": "code",
   "execution_count": 8,
   "metadata": {},
   "outputs": [
    {
     "name": "stdout",
     "output_type": "stream",
     "text": [
      "[['洪奎夫', 95, 90, 92, 66, 83], ['王德城', 84, 85, 79, 57, 66], ['謝水儒', 94, 82, 66, 78, 56], ['陳冠霞', 58, 68, 61, 90, 93], ['劉雯芬', 85, 82, 67, 95, 82], ['黃志福', 82, 53, 80, 72, 98], ['張慧君', 94, 74, 79, 77, 72], ['孫宜珊', 73, 74, 74, 72, 81], ['吳柏誠', 72, 89, 97, 87, 78], ['李彥伸', 58, 95, 78, 59, 77], ['簡國瑋', 50, 95, 74, 68, 80], ['王柏聖', 53, 87, 84, 65, 54], ['林志喜', 90, 84, 60, 87, 53], ['李政成', 95, 88, 57, 58, 60], ['陳美惠', 97, 99, 91, 87, 77], ['陳淑娟', 51, 57, 51, 84, 70], ['郭致恬', 62, 65, 73, 83, 60], ['楊建安', 60, 71, 67, 83, 83], ['杜明延', 67, 93, 61, 70, 55], ['陳文賢', 71, 73, 60, 57, 84], ['黃志福', 85, 82, 62, 89, 64], ['聶心怡', 77, 51, 93, 52, 92], ['陳倩潔', 58, 62, 61, 83, 89], ['孫火清', 82, 72, 99, 64, 56], ['劉慧君', 91, 87, 58, 70, 70], ['林建宏', 80, 67, 54, 82, 54], ['黃志福', 89, 59, 70, 57, 70], ['陳建香', 86, 100, 65, 90, 83], ['蔡偉成', 96, 77, 98, 82, 85], ['鄧亭聿', 79, 93, 88, 92, 61]]\n"
     ]
    }
   ],
   "source": [
    "import random\n",
    "def getscore():\n",
    "    score=[]\n",
    "    for i in range(5):\n",
    "        score.append(random.randint(50,100))\n",
    "    return score\n",
    "def get_name(nums:int)->list:\n",
    "    with open('names.txt',encoding='utf-8',newline='') as file:\n",
    "        name_str=file.read()\n",
    "        all_names_list=name_str.split(sep=\"\\n\")\n",
    "        names_list=random.choices(all_names_list,k=nums)#取出一定數量姓名\n",
    "    return names_list\n",
    "\n",
    "nums_int=int(input(\"請輸入學生數:\"))\n",
    "#取得nums個姓名\n",
    "names_list=get_name(nums_int)\n",
    "students=[]\n",
    "for i in range(nums_int):\n",
    "    scores=getscore()\n",
    "    new_list=[names_list[i]]+scores\n",
    "    students.append(new_list)\n",
    "\n",
    "print(students)"
   ]
  }
 ],
 "metadata": {
  "kernelspec": {
   "display_name": "Python 3",
   "language": "python",
   "name": "python3"
  },
  "language_info": {
   "codemirror_mode": {
    "name": "ipython",
    "version": 3
   },
   "file_extension": ".py",
   "mimetype": "text/x-python",
   "name": "python",
   "nbconvert_exporter": "python",
   "pygments_lexer": "ipython3",
   "version": "3.10.11"
  },
  "orig_nbformat": 4
 },
 "nbformat": 4,
 "nbformat_minor": 2
}
